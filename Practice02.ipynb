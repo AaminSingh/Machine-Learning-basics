{
  "nbformat": 4,
  "nbformat_minor": 0,
  "metadata": {
    "colab": {
      "provenance": [],
      "authorship_tag": "ABX9TyMUpGWKHg7NqzKm+8KuggXm",
      "include_colab_link": true
    },
    "kernelspec": {
      "name": "python3",
      "display_name": "Python 3"
    },
    "language_info": {
      "name": "python"
    }
  },
  "cells": [
    {
      "cell_type": "markdown",
      "metadata": {
        "id": "view-in-github",
        "colab_type": "text"
      },
      "source": [
        "<a href=\"https://colab.research.google.com/github/AaminSingh/Machine-Learning-basics/blob/main/Practice02.ipynb\" target=\"_parent\"><img src=\"https://colab.research.google.com/assets/colab-badge.svg\" alt=\"Open In Colab\"/></a>"
      ]
    },
    {
      "cell_type": "code",
      "execution_count": null,
      "metadata": {
        "id": "r8IUNYYhSaZs"
      },
      "outputs": [],
      "source": [
        "import numpy as np"
      ]
    },
    {
      "cell_type": "code",
      "source": [
        "pm25 = np.random.uniform(10,200, size = 7)\n",
        "print(\"PM2.5 levels (µg/m³):\",pm25)"
      ],
      "metadata": {
        "colab": {
          "base_uri": "https://localhost:8080/"
        },
        "id": "Vgbkcg7GiHYo",
        "outputId": "10b67aa8-a363-4fe7-f949-bc201fab264d"
      },
      "execution_count": null,
      "outputs": [
        {
          "output_type": "stream",
          "name": "stdout",
          "text": [
            "PM2.5 levels (µg/m³): [112.62707719 114.45449875 196.03483702 199.51959148 157.46200528\n",
            "  81.35971236  96.87967236]\n"
          ]
        }
      ]
    },
    {
      "cell_type": "code",
      "source": [
        "weather_condn = [\"Sunny\",\"Cloudy\",\"Rainy\",\"Windy\",\"Storm\"]\n",
        "weather = np.random.choice(weather_condn,size = 7)\n",
        "print(\"Weather:\", weather)"
      ],
      "metadata": {
        "colab": {
          "base_uri": "https://localhost:8080/"
        },
        "id": "U3-f0qY0iknP",
        "outputId": "3462ad1f-ee4e-4571-e90e-2fba23baf512"
      },
      "execution_count": null,
      "outputs": [
        {
          "output_type": "stream",
          "name": "stdout",
          "text": [
            "Weather: ['Cloudy' 'Storm' 'Storm' 'Rainy' 'Rainy' 'Cloudy' 'Windy']\n"
          ]
        }
      ]
    },
    {
      "cell_type": "code",
      "source": [
        "weather = np.random.choice([\"Sunny\",\"Cloudy\",\"Rainy\",\"Windy\",\"Storm\"], size=7, p=[0.5, 0.2, 0.2, 0.05, 0.05])"
      ],
      "metadata": {
        "id": "FKu_OGsSi4oL"
      },
      "execution_count": null,
      "outputs": []
    },
    {
      "cell_type": "code",
      "source": [
        "temperature =np.random.normal(loc = 25,scale = 5,size = 7)\n",
        "print(\"Temperature (°C):\",temperature)"
      ],
      "metadata": {
        "colab": {
          "base_uri": "https://localhost:8080/"
        },
        "id": "eTv4kw_BjbFH",
        "outputId": "48deb175-ebab-4edf-c17a-531400bbdd05"
      },
      "execution_count": null,
      "outputs": [
        {
          "output_type": "stream",
          "name": "stdout",
          "text": [
            "Temperature (°C): [23.54284314 24.01401648 23.23321963 23.61754888 23.25962166 29.69383675\n",
            " 30.64663249]\n"
          ]
        }
      ]
    },
    {
      "cell_type": "code",
      "source": [
        "days = np.arange(1, 8)\n",
        "data = {\n",
        "    \"Day\": days,\n",
        "    \"PM2.5 (µg/m³)\": np.random.uniform(10, 200, size=7),\n",
        "    \"Weather\": np.random.choice(weather_condn, size=7),\n",
        "    \"Temperature (°C)\": np.random.normal(25, 5, size=7)\n",
        "}\n",
        "\n",
        "import pandas as pd\n",
        "df = pd.DataFrame(data)\n",
        "print(df)\n"
      ],
      "metadata": {
        "colab": {
          "base_uri": "https://localhost:8080/"
        },
        "id": "8R2mLtgtj_6k",
        "outputId": "c1cc34cc-ac69-40b5-c72f-4c56e5d3c0f5"
      },
      "execution_count": null,
      "outputs": [
        {
          "output_type": "stream",
          "name": "stdout",
          "text": [
            "   Day  PM2.5 (µg/m³) Weather  Temperature (°C)\n",
            "0    1      32.689902   Rainy         25.900895\n",
            "1    2      88.887619   Sunny         16.483506\n",
            "2    3      80.932098  Cloudy         22.727450\n",
            "3    4     142.756478  Cloudy         12.766368\n",
            "4    5     122.642586   Storm         26.841354\n",
            "5    6     108.900635   Sunny         27.612655\n",
            "6    7      42.338664   Sunny         15.989904\n"
          ]
        }
      ]
    },
    {
      "cell_type": "code",
      "source": [
        "import numpy as np\n",
        "import pandas as pd\n",
        "\n",
        "# Sample data for 7 days\n",
        "days = np.arange(1, 8)\n",
        "AOD = np.random.uniform(0.1, 1.5, size=7)        # AOD values (0.1–1.5)\n",
        "Temperature = np.random.normal(25, 5, size=7)    # Temperature around 25°C\n",
        "Rainfall = np.random.uniform(0, 20, size=7)      # Rainfall 0–20 mm\n",
        "\n",
        "# Coefficients\n",
        "a, b, c = 80, 1.5, 5\n",
        "\n",
        "# Feature Engineering Formula\n",
        "PM25_estimated = (a * AOD) + (b * Temperature) - (c * np.sqrt(Rainfall))\n",
        "\n",
        "# Put everything into a DataFrame\n",
        "df = pd.DataFrame({\n",
        "    \"Day\": days,\n",
        "    \"AOD\": AOD,\n",
        "    \"Temperature (°C)\": Temperature,\n",
        "    \"Rainfall (mm)\": Rainfall,\n",
        "    \"Estimated PM2.5 (µg/m³)\": PM25_estimated\n",
        "})\n",
        "\n",
        "print(df.round(2))\n"
      ],
      "metadata": {
        "colab": {
          "base_uri": "https://localhost:8080/"
        },
        "id": "P7Gw8tOTsLy_",
        "outputId": "2311ff64-ce87-4554-a4be-30c2108744c3"
      },
      "execution_count": null,
      "outputs": [
        {
          "output_type": "stream",
          "name": "stdout",
          "text": [
            "   Day   AOD  Temperature (°C)  Rainfall (mm)  Estimated PM2.5 (µg/m³)\n",
            "0    1  1.38             18.05           9.90                   121.90\n",
            "1    2  1.07             19.62          14.34                    96.44\n",
            "2    3  1.43             20.64          12.92                   127.72\n",
            "3    4  0.56             29.42          12.94                    71.13\n",
            "4    5  1.37             24.92           8.13                   132.81\n",
            "5    6  1.30             19.65          15.06                   113.76\n",
            "6    7  0.67             22.43          15.74                    67.28\n"
          ]
        }
      ]
    },
    {
      "cell_type": "code",
      "source": [
        "import numpy as np"
      ],
      "metadata": {
        "id": "5teSP1qPf1M9"
      },
      "execution_count": null,
      "outputs": []
    },
    {
      "cell_type": "code",
      "source": [
        "pm25_readings = np.array([5,76,89,22,67,98,75,97,35,142,100,123])\n",
        "\n",
        "print(\"Orginal pm2.5 readings\", pm25_readings)\n",
        "\n",
        "pm25_clipped = np.clip(pm25_readings, a_min = 40, a_max = 100)\n",
        "print(\"Clipped pm2.5 readings\", pm25_clipped)"
      ],
      "metadata": {
        "colab": {
          "base_uri": "https://localhost:8080/"
        },
        "id": "4g21cutJf5CA",
        "outputId": "321d0e8e-63dd-45e5-a405-4234bf4a03d4"
      },
      "execution_count": null,
      "outputs": [
        {
          "output_type": "stream",
          "name": "stdout",
          "text": [
            "Orginal pm2.5 readings [  5  76  89  22  67  98  75  97  35 142 100 123]\n",
            "Clipped pm2.5 readings [ 40  76  89  40  67  98  75  97  40 100 100 100]\n"
          ]
        }
      ]
    },
    {
      "cell_type": "code",
      "source": [
        "import numpy as np\n",
        "import pandas as pd\n",
        "\n",
        "days = np.arange(1,8)\n",
        "AOD = np.random.uniform(0.1,1.5, size = 7)\n",
        "temperature = np.random.normal(25,5, size = 7)\n",
        "rainfall = np.random.uniform(0,20, size = 7)\n",
        "\n",
        "\n",
        "a,b,c= 40,0.5,10\n",
        "\n",
        "PM25_estimated = (a*AOD) + (b*temperature) + (c*np.sqrt(rainfall))\n",
        "\n",
        "\n",
        "df = pd.DataFrame({\n",
        "    \"Day\": days,\n",
        "    \"AOD\": AOD,\n",
        "    \"Temperature\":temperature,\n",
        "    \"Rainfall(mm)\":rainfall,\n",
        "    \"estimated PM2.5\" :PM25_estimated\n",
        "})\n",
        "\n",
        "print(df.round(2))"
      ],
      "metadata": {
        "colab": {
          "base_uri": "https://localhost:8080/"
        },
        "id": "0WJRfjQBgTs8",
        "outputId": "cf8df903-1214-41f5-d6fb-7a93e39ae114"
      },
      "execution_count": null,
      "outputs": [
        {
          "output_type": "stream",
          "name": "stdout",
          "text": [
            "   Day   AOD  Temperature  Rainfall(mm)  estimated PM2.5\n",
            "0    1  1.20        24.81         16.65           101.25\n",
            "1    2  0.59        27.40         12.57            72.57\n",
            "2    3  0.64        20.84          6.44            61.20\n",
            "3    4  0.64        28.22          5.91            63.89\n",
            "4    5  1.07        27.55          2.29            71.51\n",
            "5    6  0.76        22.30          2.10            56.16\n",
            "6    7  0.86        24.27          2.08            61.12\n"
          ]
        }
      ]
    },
    {
      "cell_type": "code",
      "source": [
        "from sklearn.datasets import fetch_california_housing\n",
        "from sklearn.model_selection import train_test_split\n",
        "from sklearn.preprocessing import StandardScaler\n",
        "from sklearn.linear_model import RidgeCV\n",
        "from sklearn.metrics import r2_score\n",
        "\n",
        "data = fetch_california_housing()\n",
        "X = data.data\n",
        "y = data.target\n",
        "\n",
        "X_train, X_test, y_train, y_test = train_test_split(X, y, test_size=0.3, random_state=42)\n",
        "scaler = StandardScaler()\n",
        "X_train_scaled = scaler.fit_transform(X_train)\n",
        "X_test_scaled = scaler.transform(X_test)\n",
        "\n",
        "ridge_cv = RidgeCV(alphas=[0.1, 1.0, 10.0], cv=5)\n",
        "ridge_cv.fit(X_train_scaled, y_train)\n",
        "\n",
        "y_pred = ridge_cv.predict(X_test_scaled)\n",
        "print(\"Model score (R^2):\", r2_score(y_test, y_pred))\n"
      ],
      "metadata": {
        "id": "m5s7N6wS9ld2",
        "colab": {
          "base_uri": "https://localhost:8080/"
        },
        "outputId": "7b98e7ee-6aab-493b-80a7-179690d2ca24"
      },
      "execution_count": null,
      "outputs": [
        {
          "output_type": "stream",
          "name": "stdout",
          "text": [
            "Model score (R^2): 0.595944060491304\n"
          ]
        }
      ]
    },
    {
      "cell_type": "code",
      "source": [
        "import numpy as np\n",
        "from sklearn.linear_model import LinearRegression\n"
      ],
      "metadata": {
        "id": "gCY8Q92dFpJs"
      },
      "execution_count": null,
      "outputs": []
    },
    {
      "cell_type": "code",
      "source": [
        "X = np.array([[1],[2],[3],[4],[5]])\n",
        "y = np.array([2,4,6,8,10])\n",
        "\n",
        "model = LinearRegression()\n",
        "model.fit(X,y)\n",
        "\n",
        "print(f\"Slope :{model.coef_[0]}\")\n",
        "print(f\"Intercept: {model.intercept_}\")"
      ],
      "metadata": {
        "colab": {
          "base_uri": "https://localhost:8080/"
        },
        "id": "do1oz1lwF32Q",
        "outputId": "7965c94d-e43b-49a6-f43e-ecca501a438b"
      },
      "execution_count": null,
      "outputs": [
        {
          "output_type": "stream",
          "name": "stdout",
          "text": [
            "Slope :2.0\n",
            "Intercept: 0.0\n"
          ]
        }
      ]
    },
    {
      "cell_type": "code",
      "source": [
        "# House price prediction\n",
        "# Features: [size, bedrooms, age]\n",
        "X = np.array([[1000, 2, 5], [1500, 3, 10], [2000, 4, 2], [1200, 2, 15]])\n",
        "y = np.array([150000, 200000, 300000, 160000])  # Prices\n",
        "\n",
        "model.fit(X, y)\n",
        "new_house = [[1800, 3, 7]]\n",
        "predicted_price = model.predict(new_house)\n",
        "print(predicted_price[0])\n"
      ],
      "metadata": {
        "colab": {
          "base_uri": "https://localhost:8080/"
        },
        "id": "qHccLKqTZDLZ",
        "outputId": "6650975d-77cb-4b3c-ce7d-f99daac366f7"
      },
      "execution_count": null,
      "outputs": [
        {
          "output_type": "stream",
          "name": "stdout",
          "text": [
            "284230.7692307693\n"
          ]
        }
      ]
    },
    {
      "cell_type": "code",
      "source": [
        "from sklearn.linear_model import Ridge\n",
        "from sklearn.datasets import make_regression\n",
        "\n",
        "# Generate dataset with some noise\n",
        "X, y = make_regression(n_samples=50, n_features=10, noise=0.1, random_state=42)\n",
        "\n",
        "# Regular Linear Regression\n",
        "lr = LinearRegression().fit(X, y)\n",
        "\n",
        "# Ridge Regression with different alphas\n",
        "ridge1 = Ridge(alpha=1.0).fit(X, y)\n",
        "ridge10 = Ridge(alpha=10.0).fit(X, y)\n",
        "\n",
        "# Compare coefficients\n",
        "print(\"Linear Regression coefficients:\", lr.coef_[:3])\n",
        "print(\"Ridge (α=1) coefficients:\", ridge1.coef_[:3])\n",
        "print(\"Ridge (α=10) coefficients:\", ridge10.coef_[:3])\n"
      ],
      "metadata": {
        "id": "keD6Fuqscmzi",
        "outputId": "229951d2-86d7-4ed8-bd4c-566c790c0de8",
        "colab": {
          "base_uri": "https://localhost:8080/"
        }
      },
      "execution_count": null,
      "outputs": [
        {
          "output_type": "stream",
          "name": "stdout",
          "text": [
            "Linear Regression coefficients: [23.7196506  15.2834231  24.60411193]\n",
            "Ridge (α=1) coefficients: [22.54034927 15.35701815 24.56324527]\n",
            "Ridge (α=10) coefficients: [15.25143155 15.21968947 23.77182882]\n"
          ]
        }
      ]
    },
    {
      "cell_type": "code",
      "source": [
        "import pandas as pd\n",
        "\n",
        "# Create correlated features\n",
        "data = {\n",
        "    'age': [25, 30, 35, 40, 45],\n",
        "    'experience': [1, 6, 11, 16, 21],  # Highly correlated with age\n",
        "    'salary': [30000, 45000, 60000, 75000, 90000],\n",
        "    'education': [12, 16, 18, 20, 22]\n",
        "}\n",
        "\n",
        "df = pd.DataFrame(data)\n",
        "corr_matrix = df.corr()\n",
        "print(corr_matrix)\n",
        "\n",
        "# Look for correlations > 0.8\n",
        "print(\"High correlations:\")\n",
        "for i in range(len(corr_matrix.columns)):\n",
        "    for j in range(i+1, len(corr_matrix.columns)):\n",
        "        if abs(corr_matrix.iloc[i, j]) > 0.8:\n",
        "            print(f\"{corr_matrix.columns[i]} - {corr_matrix.columns[j]}: {corr_matrix.iloc[i, j]:.3f}\")\n",
        "\n"
      ],
      "metadata": {
        "colab": {
          "base_uri": "https://localhost:8080/"
        },
        "id": "35hCTTO0Hq87",
        "outputId": "1d39991a-470a-4467-a4ae-c76254911e7a"
      },
      "execution_count": null,
      "outputs": [
        {
          "output_type": "stream",
          "name": "stdout",
          "text": [
            "                 age  experience    salary  education\n",
            "age         1.000000    1.000000  1.000000   0.986394\n",
            "experience  1.000000    1.000000  1.000000   0.986394\n",
            "salary      1.000000    1.000000  1.000000   0.986394\n",
            "education   0.986394    0.986394  0.986394   1.000000\n",
            "High correlations:\n",
            "age - experience: 1.000\n",
            "age - salary: 1.000\n",
            "age - education: 0.986\n",
            "experience - salary: 1.000\n",
            "experience - education: 0.986\n",
            "salary - education: 0.986\n"
          ]
        }
      ]
    },
    {
      "cell_type": "code",
      "source": [
        "# Simple example with polynomial degrees\n",
        "Degree  1: Train R² = 0.009, Test R² = -0.039  [Underfitting]\n",
        "Degree  3: Train R² = 0.983, Test R² = 0.981   [Good fit]\n",
        "Degree 15: Train R² = 0.988, Test R² = -980.5  [Overfitting]\n"
      ],
      "metadata": {
        "id": "5IJCN4udT2O5",
        "colab": {
          "base_uri": "https://localhost:8080/",
          "height": 106
        },
        "outputId": "6f0c7ec8-7019-4c64-f618-1d227ad28d2f"
      },
      "execution_count": null,
      "outputs": [
        {
          "output_type": "error",
          "ename": "SyntaxError",
          "evalue": "invalid character '²' (U+00B2) (ipython-input-2447225326.py, line 2)",
          "traceback": [
            "\u001b[0;36m  File \u001b[0;32m\"/tmp/ipython-input-2447225326.py\"\u001b[0;36m, line \u001b[0;32m2\u001b[0m\n\u001b[0;31m    Degree  1: Train R² = 0.009, Test R² = -0.039  [Underfitting]\u001b[0m\n\u001b[0m                      ^\u001b[0m\n\u001b[0;31mSyntaxError\u001b[0m\u001b[0;31m:\u001b[0m invalid character '²' (U+00B2)\n"
          ]
        }
      ]
    },
    {
      "cell_type": "code",
      "source": [
        "from sklearn.metrics import r2_score\n",
        "from sklearn.linear_model import LinearRegression\n",
        "import pandas as pd\n",
        "import numpy as np"
      ],
      "metadata": {
        "id": "WF_0pc73U_oN"
      },
      "execution_count": null,
      "outputs": []
    },
    {
      "cell_type": "code",
      "source": [
        "data = {\n",
        "    'size': [1050, 1200,2000,1290,1850],\n",
        "    'bedrooms':[2,5,6,1,4],\n",
        "    'age':[5,10,6,2,3],\n",
        "    'price':[15000,200000,300000,160000,250000]\\\n",
        "}\n",
        "\n",
        "df = pd.DataFrame(data)\n",
        "\n",
        "X = df[['size','bedrooms','age']]\n",
        "y = df['price']\n",
        "\n",
        "model = LinearRegression().fit(X,y)\n",
        "y_pred = model.predict(X)\n",
        "\n",
        "\n",
        "r2 = r2_score(y,y_pred)\n",
        "print(f\"R-squared: {r2:.3f}\")\n",
        "\n",
        "\n",
        "n = len(y)\n",
        "k = X.shape[1]\n",
        "adj_r2 = 1 - ((1-r2) * (n - 1)/(n - k - 1))\n",
        "print(f\"Adjusted R-squared: {adj_r2:.3f}\")"
      ],
      "metadata": {
        "colab": {
          "base_uri": "https://localhost:8080/"
        },
        "id": "Y6vqSoiBuU8C",
        "outputId": "7ef0b2f2-ce3e-49e3-a490-f1cc7dfa8c65"
      },
      "execution_count": null,
      "outputs": [
        {
          "output_type": "stream",
          "name": "stdout",
          "text": [
            "R-squared: 0.945\n",
            "Adjusted R-squared: 0.778\n"
          ]
        }
      ]
    },
    {
      "cell_type": "code",
      "source": [],
      "metadata": {
        "id": "eoUjdBhpuT6l"
      },
      "execution_count": null,
      "outputs": []
    }
  ]
}