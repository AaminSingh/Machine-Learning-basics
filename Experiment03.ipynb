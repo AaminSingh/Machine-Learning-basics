{
  "nbformat": 4,
  "nbformat_minor": 0,
  "metadata": {
    "colab": {
      "provenance": [],
      "authorship_tag": "ABX9TyMb+K9bVsOM+cc0qu/MGbNI",
      "include_colab_link": true
    },
    "kernelspec": {
      "name": "python3",
      "display_name": "Python 3"
    },
    "language_info": {
      "name": "python"
    }
  },
  "cells": [
    {
      "cell_type": "markdown",
      "metadata": {
        "id": "view-in-github",
        "colab_type": "text"
      },
      "source": [
        "<a href=\"https://colab.research.google.com/github/AaminSingh/Machine-Learning-basics/blob/main/Experiment03.ipynb\" target=\"_parent\"><img src=\"https://colab.research.google.com/assets/colab-badge.svg\" alt=\"Open In Colab\"/></a>"
      ]
    },
    {
      "cell_type": "code",
      "execution_count": null,
      "metadata": {
        "id": "-9RuLb9SHHzF",
        "colab": {
          "base_uri": "https://localhost:8080/"
        },
        "outputId": "431e0c6c-2182-4614-81dd-c47faff10d75"
      },
      "outputs": [
        {
          "output_type": "stream",
          "name": "stdout",
          "text": [
            "Aamin Simmi Singh\n"
          ]
        }
      ],
      "source": [
        "name = \"Aamin Simmi Singh\"\n",
        "print(name)\n",
        "data = [\n",
        "\n",
        "{\"Customer_ID\": 101, \"Call_Duration\": 5, \"Rate\": 2.0, \"Customer_Type\": 1},\n",
        "\n",
        "{\"Customer_ID\": 102, \"Call_Duration\": 15, \"Rate\": 1.5, \"Customer_Type\": 2},\n",
        "\n",
        "{\"Customer_ID\": 103, \"Call_Duration\": 8, \"Rate\": 2.5, \"Customer_Type\": 1},\n",
        "\n",
        "]\n",
        "\n",
        "#1. We made list of dictionaries.\n",
        "\n",
        "#2. Every row in customer Record.\n",
        "\n",
        "#3. Coloums"
      ]
    },
    {
      "cell_type": "code",
      "source": [
        "for row in data:\n",
        "    if row[\"Customer_Type\"] == 1:\n",
        "        row[\"Customer_Type\"] = \"Prepaid\"\n",
        "    elif row[\"Customer_Type\"] == 2:\n",
        "        row[\"Customer_Type\"] = \"Postpaid\""
      ],
      "metadata": {
        "id": "NJhpUN3PHjuQ"
      },
      "execution_count": null,
      "outputs": []
    },
    {
      "cell_type": "code",
      "source": [
        "print(\"Telecommunications Data after Derive & Reclassify:\\n\")\n",
        "\n",
        "for row in data:\n",
        "    print(row)"
      ],
      "metadata": {
        "colab": {
          "base_uri": "https://localhost:8080/"
        },
        "id": "28dD1cNmH4nV",
        "outputId": "9315b5e8-f353-4073-9861-113a2d8ea5f9"
      },
      "execution_count": null,
      "outputs": [
        {
          "output_type": "stream",
          "name": "stdout",
          "text": [
            "Telecommunications Data after Derive & Reclassify:\n",
            "\n",
            "{'Customer_ID': 101, 'Call_Duration': 5, 'Rate': 2.0, 'Customer_Type': 'Prepaid'}\n",
            "{'Customer_ID': 102, 'Call_Duration': 15, 'Rate': 1.5, 'Customer_Type': 'Postpaid'}\n",
            "{'Customer_ID': 103, 'Call_Duration': 8, 'Rate': 2.5, 'Customer_Type': 'Prepaid'}\n"
          ]
        }
      ]
    }
  ]
}